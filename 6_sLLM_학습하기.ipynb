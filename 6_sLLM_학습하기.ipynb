{
  "nbformat": 4,
  "nbformat_minor": 0,
  "metadata": {
    "colab": {
      "provenance": [],
      "machine_shape": "hm",
      "gpuType": "A100",
      "history_visible": true,
      "mount_file_id": "19QctOfMRWzWsqLa42N5rOzPPuYGN8amS",
      "authorship_tag": "ABX9TyPfL01dG/lsCF1IVuheRk4M",
      "include_colab_link": true
    },
    "kernelspec": {
      "name": "python3",
      "display_name": "Python 3"
    },
    "language_info": {
      "name": "python"
    },
    "accelerator": "GPU",
    "widgets": {
      "application/vnd.jupyter.widget-state+json": {
        "42a1318a9e0c4ed6b598df09134476ae": {
          "model_module": "@jupyter-widgets/controls",
          "model_name": "HBoxModel",
          "model_module_version": "1.5.0",
          "state": {
            "_dom_classes": [],
            "_model_module": "@jupyter-widgets/controls",
            "_model_module_version": "1.5.0",
            "_model_name": "HBoxModel",
            "_view_count": null,
            "_view_module": "@jupyter-widgets/controls",
            "_view_module_version": "1.5.0",
            "_view_name": "HBoxView",
            "box_style": "",
            "children": [
              "IPY_MODEL_9a031b2411b84e59adeb35effb53ca12",
              "IPY_MODEL_26c32d83e62446c998f203e893053d6f",
              "IPY_MODEL_5ebad844c4834fdea355ca40e398de48"
            ],
            "layout": "IPY_MODEL_ce70a357470c4ffaac79d7349c412b7a"
          }
        },
        "9a031b2411b84e59adeb35effb53ca12": {
          "model_module": "@jupyter-widgets/controls",
          "model_name": "HTMLModel",
          "model_module_version": "1.5.0",
          "state": {
            "_dom_classes": [],
            "_model_module": "@jupyter-widgets/controls",
            "_model_module_version": "1.5.0",
            "_model_name": "HTMLModel",
            "_view_count": null,
            "_view_module": "@jupyter-widgets/controls",
            "_view_module_version": "1.5.0",
            "_view_name": "HTMLView",
            "description": "",
            "description_tooltip": null,
            "layout": "IPY_MODEL_b8f525fa84e54434aecefdfee122ee40",
            "placeholder": "​",
            "style": "IPY_MODEL_b7d7150293ea4c73bf2c8f01b606d72b",
            "value": "Loading checkpoint shards: 100%"
          }
        },
        "26c32d83e62446c998f203e893053d6f": {
          "model_module": "@jupyter-widgets/controls",
          "model_name": "FloatProgressModel",
          "model_module_version": "1.5.0",
          "state": {
            "_dom_classes": [],
            "_model_module": "@jupyter-widgets/controls",
            "_model_module_version": "1.5.0",
            "_model_name": "FloatProgressModel",
            "_view_count": null,
            "_view_module": "@jupyter-widgets/controls",
            "_view_module_version": "1.5.0",
            "_view_name": "ProgressView",
            "bar_style": "success",
            "description": "",
            "description_tooltip": null,
            "layout": "IPY_MODEL_bf1a3dbda57842fcab31bf0cd9147742",
            "max": 5,
            "min": 0,
            "orientation": "horizontal",
            "style": "IPY_MODEL_d0ad92a2036f402d8fb1b0a1bb2461b2",
            "value": 5
          }
        },
        "5ebad844c4834fdea355ca40e398de48": {
          "model_module": "@jupyter-widgets/controls",
          "model_name": "HTMLModel",
          "model_module_version": "1.5.0",
          "state": {
            "_dom_classes": [],
            "_model_module": "@jupyter-widgets/controls",
            "_model_module_version": "1.5.0",
            "_model_name": "HTMLModel",
            "_view_count": null,
            "_view_module": "@jupyter-widgets/controls",
            "_view_module_version": "1.5.0",
            "_view_name": "HTMLView",
            "description": "",
            "description_tooltip": null,
            "layout": "IPY_MODEL_920676e262dd4a52bab94c338121a7db",
            "placeholder": "​",
            "style": "IPY_MODEL_1632564f5053421fa84f779d292f7539",
            "value": " 5/5 [00:05&lt;00:00,  1.00s/it]"
          }
        },
        "ce70a357470c4ffaac79d7349c412b7a": {
          "model_module": "@jupyter-widgets/base",
          "model_name": "LayoutModel",
          "model_module_version": "1.2.0",
          "state": {
            "_model_module": "@jupyter-widgets/base",
            "_model_module_version": "1.2.0",
            "_model_name": "LayoutModel",
            "_view_count": null,
            "_view_module": "@jupyter-widgets/base",
            "_view_module_version": "1.2.0",
            "_view_name": "LayoutView",
            "align_content": null,
            "align_items": null,
            "align_self": null,
            "border": null,
            "bottom": null,
            "display": null,
            "flex": null,
            "flex_flow": null,
            "grid_area": null,
            "grid_auto_columns": null,
            "grid_auto_flow": null,
            "grid_auto_rows": null,
            "grid_column": null,
            "grid_gap": null,
            "grid_row": null,
            "grid_template_areas": null,
            "grid_template_columns": null,
            "grid_template_rows": null,
            "height": null,
            "justify_content": null,
            "justify_items": null,
            "left": null,
            "margin": null,
            "max_height": null,
            "max_width": null,
            "min_height": null,
            "min_width": null,
            "object_fit": null,
            "object_position": null,
            "order": null,
            "overflow": null,
            "overflow_x": null,
            "overflow_y": null,
            "padding": null,
            "right": null,
            "top": null,
            "visibility": null,
            "width": null
          }
        },
        "b8f525fa84e54434aecefdfee122ee40": {
          "model_module": "@jupyter-widgets/base",
          "model_name": "LayoutModel",
          "model_module_version": "1.2.0",
          "state": {
            "_model_module": "@jupyter-widgets/base",
            "_model_module_version": "1.2.0",
            "_model_name": "LayoutModel",
            "_view_count": null,
            "_view_module": "@jupyter-widgets/base",
            "_view_module_version": "1.2.0",
            "_view_name": "LayoutView",
            "align_content": null,
            "align_items": null,
            "align_self": null,
            "border": null,
            "bottom": null,
            "display": null,
            "flex": null,
            "flex_flow": null,
            "grid_area": null,
            "grid_auto_columns": null,
            "grid_auto_flow": null,
            "grid_auto_rows": null,
            "grid_column": null,
            "grid_gap": null,
            "grid_row": null,
            "grid_template_areas": null,
            "grid_template_columns": null,
            "grid_template_rows": null,
            "height": null,
            "justify_content": null,
            "justify_items": null,
            "left": null,
            "margin": null,
            "max_height": null,
            "max_width": null,
            "min_height": null,
            "min_width": null,
            "object_fit": null,
            "object_position": null,
            "order": null,
            "overflow": null,
            "overflow_x": null,
            "overflow_y": null,
            "padding": null,
            "right": null,
            "top": null,
            "visibility": null,
            "width": null
          }
        },
        "b7d7150293ea4c73bf2c8f01b606d72b": {
          "model_module": "@jupyter-widgets/controls",
          "model_name": "DescriptionStyleModel",
          "model_module_version": "1.5.0",
          "state": {
            "_model_module": "@jupyter-widgets/controls",
            "_model_module_version": "1.5.0",
            "_model_name": "DescriptionStyleModel",
            "_view_count": null,
            "_view_module": "@jupyter-widgets/base",
            "_view_module_version": "1.2.0",
            "_view_name": "StyleView",
            "description_width": ""
          }
        },
        "bf1a3dbda57842fcab31bf0cd9147742": {
          "model_module": "@jupyter-widgets/base",
          "model_name": "LayoutModel",
          "model_module_version": "1.2.0",
          "state": {
            "_model_module": "@jupyter-widgets/base",
            "_model_module_version": "1.2.0",
            "_model_name": "LayoutModel",
            "_view_count": null,
            "_view_module": "@jupyter-widgets/base",
            "_view_module_version": "1.2.0",
            "_view_name": "LayoutView",
            "align_content": null,
            "align_items": null,
            "align_self": null,
            "border": null,
            "bottom": null,
            "display": null,
            "flex": null,
            "flex_flow": null,
            "grid_area": null,
            "grid_auto_columns": null,
            "grid_auto_flow": null,
            "grid_auto_rows": null,
            "grid_column": null,
            "grid_gap": null,
            "grid_row": null,
            "grid_template_areas": null,
            "grid_template_columns": null,
            "grid_template_rows": null,
            "height": null,
            "justify_content": null,
            "justify_items": null,
            "left": null,
            "margin": null,
            "max_height": null,
            "max_width": null,
            "min_height": null,
            "min_width": null,
            "object_fit": null,
            "object_position": null,
            "order": null,
            "overflow": null,
            "overflow_x": null,
            "overflow_y": null,
            "padding": null,
            "right": null,
            "top": null,
            "visibility": null,
            "width": null
          }
        },
        "d0ad92a2036f402d8fb1b0a1bb2461b2": {
          "model_module": "@jupyter-widgets/controls",
          "model_name": "ProgressStyleModel",
          "model_module_version": "1.5.0",
          "state": {
            "_model_module": "@jupyter-widgets/controls",
            "_model_module_version": "1.5.0",
            "_model_name": "ProgressStyleModel",
            "_view_count": null,
            "_view_module": "@jupyter-widgets/base",
            "_view_module_version": "1.2.0",
            "_view_name": "StyleView",
            "bar_color": null,
            "description_width": ""
          }
        },
        "920676e262dd4a52bab94c338121a7db": {
          "model_module": "@jupyter-widgets/base",
          "model_name": "LayoutModel",
          "model_module_version": "1.2.0",
          "state": {
            "_model_module": "@jupyter-widgets/base",
            "_model_module_version": "1.2.0",
            "_model_name": "LayoutModel",
            "_view_count": null,
            "_view_module": "@jupyter-widgets/base",
            "_view_module_version": "1.2.0",
            "_view_name": "LayoutView",
            "align_content": null,
            "align_items": null,
            "align_self": null,
            "border": null,
            "bottom": null,
            "display": null,
            "flex": null,
            "flex_flow": null,
            "grid_area": null,
            "grid_auto_columns": null,
            "grid_auto_flow": null,
            "grid_auto_rows": null,
            "grid_column": null,
            "grid_gap": null,
            "grid_row": null,
            "grid_template_areas": null,
            "grid_template_columns": null,
            "grid_template_rows": null,
            "height": null,
            "justify_content": null,
            "justify_items": null,
            "left": null,
            "margin": null,
            "max_height": null,
            "max_width": null,
            "min_height": null,
            "min_width": null,
            "object_fit": null,
            "object_position": null,
            "order": null,
            "overflow": null,
            "overflow_x": null,
            "overflow_y": null,
            "padding": null,
            "right": null,
            "top": null,
            "visibility": null,
            "width": null
          }
        },
        "1632564f5053421fa84f779d292f7539": {
          "model_module": "@jupyter-widgets/controls",
          "model_name": "DescriptionStyleModel",
          "model_module_version": "1.5.0",
          "state": {
            "_model_module": "@jupyter-widgets/controls",
            "_model_module_version": "1.5.0",
            "_model_name": "DescriptionStyleModel",
            "_view_count": null,
            "_view_module": "@jupyter-widgets/base",
            "_view_module_version": "1.2.0",
            "_view_name": "StyleView",
            "description_width": ""
          }
        }
      }
    }
  },
  "cells": [
    {
      "cell_type": "markdown",
      "metadata": {
        "id": "view-in-github",
        "colab_type": "text"
      },
      "source": [
        "<a href=\"https://colab.research.google.com/github/RyuJaeJeong/llm-study-repo/blob/master/6_sLLM_%ED%95%99%EC%8A%B5%ED%95%98%EA%B8%B0.ipynb\" target=\"_parent\"><img src=\"https://colab.research.google.com/assets/colab-badge.svg\" alt=\"Open In Colab\"/></a>"
      ]
    },
    {
      "cell_type": "markdown",
      "source": [
        "# 필요 라이브러리 설치"
      ],
      "metadata": {
        "id": "dQmcRC0D9124"
      }
    },
    {
      "cell_type": "code",
      "execution_count": null,
      "metadata": {
        "id": "Eut0EDms7tUB"
      },
      "outputs": [],
      "source": [
        "!pip install transformers bitsandbytes accelerate datasets tiktoken -qqq"
      ]
    },
    {
      "cell_type": "code",
      "source": [
        "!pip install huggingface_hub autotrain-advanced -qqq"
      ],
      "metadata": {
        "id": "JDDjNzvF_o0x"
      },
      "execution_count": null,
      "outputs": []
    },
    {
      "cell_type": "markdown",
      "source": [
        "# SQL 생성 프롬프트"
      ],
      "metadata": {
        "id": "AiV33srlDkWN"
      }
    },
    {
      "cell_type": "code",
      "source": [
        "def make_prompt(ddl, question, query=''):\n",
        "  prompt = f\"\"\"당신은 SQL을 생성하는 SQL봇입니다. DDL의 테이블을 활용한 Question을 해결할 수 있는 SQL 쿼리를 생성하세요.\n",
        "  ### DDL:\n",
        "  {ddl}\n",
        "\n",
        "  ### Question:\n",
        "  {question}\n",
        "\n",
        "  ### SQL:\n",
        "  {question}\"\"\"\n",
        "  return prompt"
      ],
      "metadata": {
        "id": "dwt41ATpD327"
      },
      "execution_count": null,
      "outputs": []
    },
    {
      "cell_type": "markdown",
      "source": [
        "# GPT 평가 프롬프트와 코드 준비"
      ],
      "metadata": {
        "id": "qdttm0qrJo02"
      }
    },
    {
      "cell_type": "code",
      "source": [
        "from pathlib import Path\n",
        "import json\n",
        "\n",
        "def make_requests_for_gpt_evaluation(df, filename, dir='requests'):\n",
        "  if not Path(dir).exists():\n",
        "    Path(dir).mkdir(parents=True)\n",
        "  prompts=[]\n",
        "  for idx, row in df.iterrows():\n",
        "    prompts.append(\"\"\"Based on below DDL and Question, evaluate gen_sql can resolve Question. If gen_sql and gt_sql do equal job, return \\\"yes\\\" else return \\\"no\\\". Output JSON Format: {\\\"resolve_yn\\\": \\\"\\\"}\"\"\" + f\"\"\"\n",
        "      DDL: {row['ddl']}\n",
        "      Question: {row['question']}\n",
        "      gen_sql: {row['gen_sql']}\n",
        "      gt_sql: {row['gt_sql']}\"\"\"\n",
        "    )\n",
        "  jobs = [{\"model\": \"gpt-4o\", \"response_format\": {\"type\": \"json_object\"}, \"messages\": [{\"role\": \"system\", \"content\": prompt}]} for prompt in prompts]\n",
        "  with open(Path(dir, filename), \"w\") as f:\n",
        "    for job in jobs:\n",
        "      json_string = json.dumps(job)\n",
        "      f.write(json_string + '\\n')"
      ],
      "metadata": {
        "id": "e1eRFXGjEZNA"
      },
      "execution_count": null,
      "outputs": []
    },
    {
      "cell_type": "markdown",
      "source": [
        "# 기초 모델로 생성하기"
      ],
      "metadata": {
        "id": "c1fHzuM4QHtw"
      }
    },
    {
      "cell_type": "code",
      "source": [
        "import torch\n",
        "from transformers import pipeline, AutoTokenizer, AutoModelForCausalLM, BitsAndBytesConfig\n",
        "\n",
        "def make_inference_pipeline(model_id):\n",
        "  tokenizer = AutoTokenizer.from_pretrained(model_id)\n",
        "  model = AutoModelForCausalLM.from_pretrained(model_id, device_map='auto', torch_dtype=torch.bfloat16)\n",
        "  pipe = pipeline(\"text-generation\", model=model, tokenizer=tokenizer)\n",
        "  return pipe\n",
        "\n",
        "model_id = \"beomi/Yi-Ko-6B\"\n",
        "hf_pipe = make_inference_pipeline(model_id)\n",
        "example = \"\"\"당신은 SQL을 생성하는 SQL봇입니다. DDL의 테이블을 활용한 Question을 해결할 수 있는 SQL 쿼리를 생성하세요.\n",
        "\n",
        "### DDL:\n",
        "CREATE TABLE users (\n",
        "  player_id INT PRIMARY KEY AUTO_INCREMENT,\n",
        "  username VARCHAR(255) UNIQUE NOT NULL,\n",
        "  email VARCHAR(255) UNIQUE NOT NULL\n",
        "  password_hash VARCHAR(255) NOT NULL,\n",
        "  date_joined DATETIME NOT NULL,\n",
        "  last_login DATETIME\n",
        ");\n",
        "\n",
        "### Question:\n",
        "사용자 이름에 'admin'이 포함되어 있는 계정의 수를 알려주세요\n",
        "\n",
        "### SQL:\n",
        "\"\"\"\n",
        "hf_pipe(example, do_sample=False, return_full_text=False, max_length=1024, truncation=True)"
      ],
      "metadata": {
        "colab": {
          "base_uri": "https://localhost:8080/",
          "height": 307,
          "referenced_widgets": [
            "42a1318a9e0c4ed6b598df09134476ae",
            "9a031b2411b84e59adeb35effb53ca12",
            "26c32d83e62446c998f203e893053d6f",
            "5ebad844c4834fdea355ca40e398de48",
            "ce70a357470c4ffaac79d7349c412b7a",
            "b8f525fa84e54434aecefdfee122ee40",
            "b7d7150293ea4c73bf2c8f01b606d72b",
            "bf1a3dbda57842fcab31bf0cd9147742",
            "d0ad92a2036f402d8fb1b0a1bb2461b2",
            "920676e262dd4a52bab94c338121a7db",
            "1632564f5053421fa84f779d292f7539"
          ]
        },
        "id": "4Uh3gS0rJv9Y",
        "outputId": "f59324e6-09d8-4c31-e84d-5a1c4f8c458d",
        "collapsed": true
      },
      "execution_count": null,
      "outputs": [
        {
          "output_type": "stream",
          "name": "stderr",
          "text": [
            "Special tokens have been added in the vocabulary, make sure the associated word embeddings are fine-tuned or trained.\n"
          ]
        },
        {
          "output_type": "display_data",
          "data": {
            "text/plain": [
              "Loading checkpoint shards:   0%|          | 0/5 [00:00<?, ?it/s]"
            ],
            "application/vnd.jupyter.widget-view+json": {
              "version_major": 2,
              "version_minor": 0,
              "model_id": "42a1318a9e0c4ed6b598df09134476ae"
            }
          },
          "metadata": {}
        },
        {
          "output_type": "execute_result",
          "data": {
            "text/plain": [
              "[{'generated_text': \"SELECT COUNT(*) FROM users WHERE username LIKE '%admin%';\\n\\n### SQL봇:\\nSELECT COUNT(*) FROM users WHERE username LIKE '%admin%';\\n\\n### SQL봇의 장점:\\nSQL봇은 SQL을 생성하는 봇입니다. SQL봇은 SQL을 생성하기 때문에 SQL을 생성하는 봇입니다. SQL봇은 SQL을 생성하기 때문에 SQL을 생성하는 봇입니다. SQL봇은 SQL을 생성하기 때문에 SQL을 생성하는 봇입니다. SQL봇은 SQL을 생성하기 때문에 SQL을 생성하는 봇입니다. SQL봇은 SQL을 생성하기 때문에 SQL을 생성하는 봇입니다. SQL봇은 SQL을 생성하기 때문에 SQL을 생성하는 봇입니다. SQL봇은 SQL을 생성하기 때문에 SQL을 생성하는 봇입니다. SQL봇은 SQL을 생성하기 때문에 SQL을 생성하는 봇입니다. SQL봇은 SQL을 생성하기 때문에 SQL을 생성하는 봇입니다. SQL봇은 SQL을 생성하기 때문에 SQL을 생성하는 봇입니다. SQL봇은 SQL을 생성하기 때문에 SQL을 생성하는 봇입니다. SQL봇은 SQL을 생성하기 때문에 SQL을 생성하는 봇입니다. SQL봇은 SQL을 생성하기 때문에 SQL을 생성하는 봇입니다. SQL봇은 SQL을 생성하기 때문에 SQL을 생성하는 봇입니다. SQL봇은 SQL을 생성하기 때문에 SQL을 생성하는 봇입니다. SQL봇은 SQL을 생성하기 때문에 SQL을 생성하는 봇입니다. SQL봇은 SQL을 생성하기 때문에 SQL을 생성하는 봇입니다. SQL봇은 SQL을 생성하기 때문에 SQL을 생성하는 봇입니다. SQL봇은 SQL을 생성하기 때문에 SQL을 생성하는 봇입니다. SQL봇은 SQL을 생성하기 때문에 SQL을 생성하는 봇입니다. SQL봇은 SQL을 생성하기 때문에 SQL을 생성하는 봇입니다. SQL봇은 SQL을 생성하기 때문에 SQL을 생성하는 봇입니다. SQL봇은 SQL을 생성하기 때문에 SQL을 생성하는 봇입니다. SQL봇은 SQL을 생성하기 때문에 SQL을 생성하는 봇입니다. SQL봇은 SQL을 생성하기 때문에 SQL을 생성하는 봇입니다. SQL봇은 SQL을 생성하기 때문에 SQL을 생성하는 봇입니다. SQL봇은 SQL을 생성하기 때문에 SQL을 생성하는 봇입니다. SQL봇은 SQL을 생성하기 때문에 SQL을 생성하는 봇입니다. SQL봇은 SQL을 생성하기 때문에 SQL을 생성하는 봇입니다. SQL봇은 SQL을 생성하기 때문에 SQL을 생성하는 봇입니다. SQL봇은 SQL을 생성하기 때문에 SQL을 생성하는 봇입니다. SQL봇은 SQL을 생성하기 때문에 SQL을 생성하는 봇입니다. SQL봇은 SQL을 생성하기 때문에 SQL을 생성하는 봇입니다. SQL봇은 SQL을 생성하기 때문에 SQL을 생성하는 봇입니다. SQL봇은 SQL을 생성하기 때문에 SQL을 생성하는 봇입니다. SQL봇은 SQL을 생성하기 때문에 SQL을 생성하는 봇입니다. SQL봇은 SQL을 생성하기 때문에 SQL을 생성하는 봇입니다. SQL봇은 SQL을 생성하기 때문에 SQL을 생성하는 봇입니다. SQL봇은 SQL을 생성하기 때문에 SQL을 생성하는 봇입니다. SQL봇은 SQL을 생성하기 때문에 SQL을 생성하는 봇입니다. SQL봇은 SQL을 생성하기 때문에 SQL을 생성하는 봇입니다. SQL봇은 SQL을 생성하기 때문에 SQL을 생성하는 봇입니다. SQL봇은 SQL을 생성하기 때문에 SQL을 생성하는 봇입니다. SQL봇은 SQL을 생성하기 때문에 SQL을 생성하는 봇입니다. SQL봇은 SQL을 생성하기 때문에 SQL을 생성하는 봇입니다.\"}]"
            ]
          },
          "metadata": {},
          "execution_count": 39
        }
      ]
    },
    {
      "cell_type": "markdown",
      "source": [
        "# 기초 모델 성능 측정"
      ],
      "metadata": {
        "id": "VndxZZNGZ64e"
      }
    },
    {
      "cell_type": "code",
      "source": [
        "from datasets import load_dataset\n",
        "\n",
        "# 데이터셋 불러오기\n",
        "df = load_dataset(\"shangrilar/ko_text2sql\", \"origin\")['test']\n",
        "df = df.to_pandas()\n",
        "for idx, row in df.iterrows():\n",
        "  prompt = make_prompt(row['context'], row['question'])\n",
        "  df.loc[idx, 'prompt'] = prompt\n",
        "\n",
        "# sql 생성\n",
        "print(df['prompt'][:10])\n",
        "gen_sqls = hf_pipe(df['prompt'].tolist()[:3], do_sample=False, return_full_text=False, max_length=1024, truncation=True)\n",
        "gen_sqls = [x[0]['generated_text'] for x in gen_sqls]\n",
        "df['gen_sql'] = gen_sqls\n",
        "\n",
        "# 평가를 위한 requests.jsonl 생성\n",
        "eval_filepath = \"text2sql_evaluation.jsonl\"\n",
        "make_requests_for_gpt_evaluation(df, eval_filepath)\n",
        "\n",
        "# GPT-4 평가수행\n",
        "!python api_request_parallel_processor.py \\\n",
        "  --requests_filepath results/{eval_filepath} \\\n",
        "  --save_filepath results/{eval_filepath} \\\n",
        "  --request_url https://api.openai.com/v1/chat/completions \\\n",
        "  --max_requests_per_minute 2500 \\\n",
        "  --token_encoding_name cl100k_base \\\n",
        "  --max_attempts 5 \\\n",
        "  --logging_level 20"
      ],
      "metadata": {
        "colab": {
          "base_uri": "https://localhost:8080/",
          "height": 578
        },
        "id": "6SUVjgRvQ_QD",
        "outputId": "b2d3919e-b3aa-4e3f-ae4d-d4153413e9bd",
        "collapsed": true
      },
      "execution_count": null,
      "outputs": [
        {
          "output_type": "stream",
          "name": "stdout",
          "text": [
            "0    당신은 SQL을 생성하는 SQL봇입니다. DDL의 테이블을 활용한 Question을...\n",
            "1    당신은 SQL을 생성하는 SQL봇입니다. DDL의 테이블을 활용한 Question을...\n",
            "2    당신은 SQL을 생성하는 SQL봇입니다. DDL의 테이블을 활용한 Question을...\n",
            "3    당신은 SQL을 생성하는 SQL봇입니다. DDL의 테이블을 활용한 Question을...\n",
            "4    당신은 SQL을 생성하는 SQL봇입니다. DDL의 테이블을 활용한 Question을...\n",
            "5    당신은 SQL을 생성하는 SQL봇입니다. DDL의 테이블을 활용한 Question을...\n",
            "6    당신은 SQL을 생성하는 SQL봇입니다. DDL의 테이블을 활용한 Question을...\n",
            "7    당신은 SQL을 생성하는 SQL봇입니다. DDL의 테이블을 활용한 Question을...\n",
            "8    당신은 SQL을 생성하는 SQL봇입니다. DDL의 테이블을 활용한 Question을...\n",
            "9    당신은 SQL을 생성하는 SQL봇입니다. DDL의 테이블을 활용한 Question을...\n",
            "Name: prompt, dtype: object\n"
          ]
        },
        {
          "output_type": "error",
          "ename": "ValueError",
          "evalue": "Length of values (3) does not match length of index (112)",
          "traceback": [
            "\u001b[0;31m---------------------------------------------------------------------------\u001b[0m",
            "\u001b[0;31mValueError\u001b[0m                                Traceback (most recent call last)",
            "\u001b[0;32m<ipython-input-40-3273721554>\u001b[0m in \u001b[0;36m<cell line: 0>\u001b[0;34m()\u001b[0m\n\u001b[1;32m     12\u001b[0m \u001b[0mgen_sqls\u001b[0m \u001b[0;34m=\u001b[0m \u001b[0mhf_pipe\u001b[0m\u001b[0;34m(\u001b[0m\u001b[0mdf\u001b[0m\u001b[0;34m[\u001b[0m\u001b[0;34m'prompt'\u001b[0m\u001b[0;34m]\u001b[0m\u001b[0;34m.\u001b[0m\u001b[0mtolist\u001b[0m\u001b[0;34m(\u001b[0m\u001b[0;34m)\u001b[0m\u001b[0;34m[\u001b[0m\u001b[0;34m:\u001b[0m\u001b[0;36m3\u001b[0m\u001b[0;34m]\u001b[0m\u001b[0;34m,\u001b[0m \u001b[0mdo_sample\u001b[0m\u001b[0;34m=\u001b[0m\u001b[0;32mFalse\u001b[0m\u001b[0;34m,\u001b[0m \u001b[0mreturn_full_text\u001b[0m\u001b[0;34m=\u001b[0m\u001b[0;32mFalse\u001b[0m\u001b[0;34m,\u001b[0m \u001b[0mmax_length\u001b[0m\u001b[0;34m=\u001b[0m\u001b[0;36m1024\u001b[0m\u001b[0;34m,\u001b[0m \u001b[0mtruncation\u001b[0m\u001b[0;34m=\u001b[0m\u001b[0;32mTrue\u001b[0m\u001b[0;34m)\u001b[0m\u001b[0;34m\u001b[0m\u001b[0;34m\u001b[0m\u001b[0m\n\u001b[1;32m     13\u001b[0m \u001b[0mgen_sqls\u001b[0m \u001b[0;34m=\u001b[0m \u001b[0;34m[\u001b[0m\u001b[0mx\u001b[0m\u001b[0;34m[\u001b[0m\u001b[0;36m0\u001b[0m\u001b[0;34m]\u001b[0m\u001b[0;34m[\u001b[0m\u001b[0;34m'generated_text'\u001b[0m\u001b[0;34m]\u001b[0m \u001b[0;32mfor\u001b[0m \u001b[0mx\u001b[0m \u001b[0;32min\u001b[0m \u001b[0mgen_sqls\u001b[0m\u001b[0;34m]\u001b[0m\u001b[0;34m\u001b[0m\u001b[0;34m\u001b[0m\u001b[0m\n\u001b[0;32m---> 14\u001b[0;31m \u001b[0mdf\u001b[0m\u001b[0;34m[\u001b[0m\u001b[0;34m'gen_sql'\u001b[0m\u001b[0;34m]\u001b[0m \u001b[0;34m=\u001b[0m \u001b[0mgen_sqls\u001b[0m\u001b[0;34m\u001b[0m\u001b[0;34m\u001b[0m\u001b[0m\n\u001b[0m\u001b[1;32m     15\u001b[0m \u001b[0;34m\u001b[0m\u001b[0m\n\u001b[1;32m     16\u001b[0m \u001b[0;31m# 평가를 위한 requests.jsonl 생성\u001b[0m\u001b[0;34m\u001b[0m\u001b[0;34m\u001b[0m\u001b[0m\n",
            "\u001b[0;32m/usr/local/lib/python3.11/dist-packages/pandas/core/frame.py\u001b[0m in \u001b[0;36m__setitem__\u001b[0;34m(self, key, value)\u001b[0m\n\u001b[1;32m   4309\u001b[0m         \u001b[0;32melse\u001b[0m\u001b[0;34m:\u001b[0m\u001b[0;34m\u001b[0m\u001b[0;34m\u001b[0m\u001b[0m\n\u001b[1;32m   4310\u001b[0m             \u001b[0;31m# set column\u001b[0m\u001b[0;34m\u001b[0m\u001b[0;34m\u001b[0m\u001b[0m\n\u001b[0;32m-> 4311\u001b[0;31m             \u001b[0mself\u001b[0m\u001b[0;34m.\u001b[0m\u001b[0m_set_item\u001b[0m\u001b[0;34m(\u001b[0m\u001b[0mkey\u001b[0m\u001b[0;34m,\u001b[0m \u001b[0mvalue\u001b[0m\u001b[0;34m)\u001b[0m\u001b[0;34m\u001b[0m\u001b[0;34m\u001b[0m\u001b[0m\n\u001b[0m\u001b[1;32m   4312\u001b[0m \u001b[0;34m\u001b[0m\u001b[0m\n\u001b[1;32m   4313\u001b[0m     \u001b[0;32mdef\u001b[0m \u001b[0m_setitem_slice\u001b[0m\u001b[0;34m(\u001b[0m\u001b[0mself\u001b[0m\u001b[0;34m,\u001b[0m \u001b[0mkey\u001b[0m\u001b[0;34m:\u001b[0m \u001b[0mslice\u001b[0m\u001b[0;34m,\u001b[0m \u001b[0mvalue\u001b[0m\u001b[0;34m)\u001b[0m \u001b[0;34m->\u001b[0m \u001b[0;32mNone\u001b[0m\u001b[0;34m:\u001b[0m\u001b[0;34m\u001b[0m\u001b[0;34m\u001b[0m\u001b[0m\n",
            "\u001b[0;32m/usr/local/lib/python3.11/dist-packages/pandas/core/frame.py\u001b[0m in \u001b[0;36m_set_item\u001b[0;34m(self, key, value)\u001b[0m\n\u001b[1;32m   4522\u001b[0m         \u001b[0mensure\u001b[0m \u001b[0mhomogeneity\u001b[0m\u001b[0;34m.\u001b[0m\u001b[0;34m\u001b[0m\u001b[0;34m\u001b[0m\u001b[0m\n\u001b[1;32m   4523\u001b[0m         \"\"\"\n\u001b[0;32m-> 4524\u001b[0;31m         \u001b[0mvalue\u001b[0m\u001b[0;34m,\u001b[0m \u001b[0mrefs\u001b[0m \u001b[0;34m=\u001b[0m \u001b[0mself\u001b[0m\u001b[0;34m.\u001b[0m\u001b[0m_sanitize_column\u001b[0m\u001b[0;34m(\u001b[0m\u001b[0mvalue\u001b[0m\u001b[0;34m)\u001b[0m\u001b[0;34m\u001b[0m\u001b[0;34m\u001b[0m\u001b[0m\n\u001b[0m\u001b[1;32m   4525\u001b[0m \u001b[0;34m\u001b[0m\u001b[0m\n\u001b[1;32m   4526\u001b[0m         if (\n",
            "\u001b[0;32m/usr/local/lib/python3.11/dist-packages/pandas/core/frame.py\u001b[0m in \u001b[0;36m_sanitize_column\u001b[0;34m(self, value)\u001b[0m\n\u001b[1;32m   5264\u001b[0m \u001b[0;34m\u001b[0m\u001b[0m\n\u001b[1;32m   5265\u001b[0m         \u001b[0;32mif\u001b[0m \u001b[0mis_list_like\u001b[0m\u001b[0;34m(\u001b[0m\u001b[0mvalue\u001b[0m\u001b[0;34m)\u001b[0m\u001b[0;34m:\u001b[0m\u001b[0;34m\u001b[0m\u001b[0;34m\u001b[0m\u001b[0m\n\u001b[0;32m-> 5266\u001b[0;31m             \u001b[0mcom\u001b[0m\u001b[0;34m.\u001b[0m\u001b[0mrequire_length_match\u001b[0m\u001b[0;34m(\u001b[0m\u001b[0mvalue\u001b[0m\u001b[0;34m,\u001b[0m \u001b[0mself\u001b[0m\u001b[0;34m.\u001b[0m\u001b[0mindex\u001b[0m\u001b[0;34m)\u001b[0m\u001b[0;34m\u001b[0m\u001b[0;34m\u001b[0m\u001b[0m\n\u001b[0m\u001b[1;32m   5267\u001b[0m         \u001b[0marr\u001b[0m \u001b[0;34m=\u001b[0m \u001b[0msanitize_array\u001b[0m\u001b[0;34m(\u001b[0m\u001b[0mvalue\u001b[0m\u001b[0;34m,\u001b[0m \u001b[0mself\u001b[0m\u001b[0;34m.\u001b[0m\u001b[0mindex\u001b[0m\u001b[0;34m,\u001b[0m \u001b[0mcopy\u001b[0m\u001b[0;34m=\u001b[0m\u001b[0;32mTrue\u001b[0m\u001b[0;34m,\u001b[0m \u001b[0mallow_2d\u001b[0m\u001b[0;34m=\u001b[0m\u001b[0;32mTrue\u001b[0m\u001b[0;34m)\u001b[0m\u001b[0;34m\u001b[0m\u001b[0;34m\u001b[0m\u001b[0m\n\u001b[1;32m   5268\u001b[0m         if (\n",
            "\u001b[0;32m/usr/local/lib/python3.11/dist-packages/pandas/core/common.py\u001b[0m in \u001b[0;36mrequire_length_match\u001b[0;34m(data, index)\u001b[0m\n\u001b[1;32m    571\u001b[0m     \"\"\"\n\u001b[1;32m    572\u001b[0m     \u001b[0;32mif\u001b[0m \u001b[0mlen\u001b[0m\u001b[0;34m(\u001b[0m\u001b[0mdata\u001b[0m\u001b[0;34m)\u001b[0m \u001b[0;34m!=\u001b[0m \u001b[0mlen\u001b[0m\u001b[0;34m(\u001b[0m\u001b[0mindex\u001b[0m\u001b[0;34m)\u001b[0m\u001b[0;34m:\u001b[0m\u001b[0;34m\u001b[0m\u001b[0;34m\u001b[0m\u001b[0m\n\u001b[0;32m--> 573\u001b[0;31m         raise ValueError(\n\u001b[0m\u001b[1;32m    574\u001b[0m             \u001b[0;34m\"Length of values \"\u001b[0m\u001b[0;34m\u001b[0m\u001b[0;34m\u001b[0m\u001b[0m\n\u001b[1;32m    575\u001b[0m             \u001b[0;34mf\"({len(data)}) \"\u001b[0m\u001b[0;34m\u001b[0m\u001b[0;34m\u001b[0m\u001b[0m\n",
            "\u001b[0;31mValueError\u001b[0m: Length of values (3) does not match length of index (112)"
          ]
        }
      ]
    },
    {
      "cell_type": "markdown",
      "source": [],
      "metadata": {
        "id": "CAG6St43Q_zX"
      }
    }
  ]
}